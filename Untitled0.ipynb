{
  "nbformat": 4,
  "nbformat_minor": 0,
  "metadata": {
    "colab": {
      "provenance": [],
      "authorship_tag": "ABX9TyNPb3KIP2cxFgvUh1J7Ruel",
      "include_colab_link": true
    },
    "kernelspec": {
      "name": "python3",
      "display_name": "Python 3"
    },
    "language_info": {
      "name": "python"
    }
  },
  "cells": [
    {
      "cell_type": "markdown",
      "metadata": {
        "id": "view-in-github",
        "colab_type": "text"
      },
      "source": [
        "<a href=\"https://colab.research.google.com/github/PrathapaniSatwika/Bluejay-Delivery-Assignment/blob/main/Untitled0.ipynb\" target=\"_parent\"><img src=\"https://colab.research.google.com/assets/colab-badge.svg\" alt=\"Open In Colab\"/></a>"
      ]
    },
    {
      "cell_type": "code",
      "source": [
        "import pandas as pd\n",
        "from datetime import timedelta\n"
      ],
      "metadata": {
        "id": "7FNE_Sbr_kR8"
      },
      "execution_count": 9,
      "outputs": []
    },
    {
      "cell_type": "code",
      "source": [
        "df = pd.read_excel('Assignment_Timecard.xlsx')\n"
      ],
      "metadata": {
        "id": "L71mzZIX_nFz"
      },
      "execution_count": 10,
      "outputs": []
    },
    {
      "cell_type": "code",
      "source": [
        "# Step 2: Data Preprocessing\n",
        "df['Time'] = pd.to_datetime(df['Time'])\n",
        "df.sort_values(['Employee Name', 'Time'], inplace=True)\n"
      ],
      "metadata": {
        "id": "24HXpV7o_tOr"
      },
      "execution_count": 17,
      "outputs": []
    },
    {
      "cell_type": "code",
      "source": [
        " # Step 3: Analyze the data\n",
        "    # a) Employees who have worked for 7 consecutive days\n",
        "    # Set the threshold for consecutive days\n",
        "consecutive_days_threshold = 7\n",
        "consecutive_days = df.groupby('Employee Name')['Time'].diff().dt.days == 1\n",
        "consecutive_days_count = consecutive_days.groupby(df['Employee Name']).cumsum()\n",
        "employees_7_consecutive_days = df[consecutive_days_count >= consecutive_days_threshold]\n"
      ],
      "metadata": {
        "id": "sXOh43kp_xTH"
      },
      "execution_count": 18,
      "outputs": []
    },
    {
      "cell_type": "code",
      "source": [
        "# b) Employees who have less than 10 hours between shifts but greater than 1 hour\n",
        "    # Set the minimum and maximum hours between shifts\n",
        "min_hours_between_shifts = 1\n",
        "max_hours_between_shifts = 10\n",
        "time_between_shifts = df.groupby('Employee Name')['Time'].diff().dt.total_seconds() / 3600\n",
        "short_time_between_shifts = (time_between_shifts > min_hours_between_shifts) & (time_between_shifts < max_hours_between_shifts)\n",
        "employees_short_time_between_shifts = df[short_time_between_shifts]\n"
      ],
      "metadata": {
        "id": "viMZW049_0FP"
      },
      "execution_count": 13,
      "outputs": []
    },
    {
      "cell_type": "code",
      "source": [
        "# c) Employees who have worked for more than 14 hours in a single shift\n",
        "    # Set the maximum hours for a single shift\n",
        "max_hours_single_shift = 14\n",
        "long_shifts = df.groupby('Employee Name')['Time'].diff().shift(-1).dt.total_seconds() / 3600 > max_hours_single_shift\n",
        "employees_long_shifts = df[long_shifts]\n"
      ],
      "metadata": {
        "id": "osVL0Je3_2xs"
      },
      "execution_count": 14,
      "outputs": []
    },
    {
      "cell_type": "code",
      "source": [
        "print(\"Employees who have worked for 7 consecutive days:\")\n",
        "print(employees_7_consecutive_days[['Employee Name', 'Position ID']])\n",
        "\n",
        "print(\"\\nEmployees who have less than 10 hours between shifts but greater than 1 hour:\")\n",
        "print(employees_short_time_between_shifts[['Employee Name', 'Position ID']])\n",
        "\n",
        "print(\"\\nEmployees who have worked for more than 14 hours in a single shift:\")\n",
        "print(employees_long_shifts[['Employee Name', 'Position ID']])\n"
      ],
      "metadata": {
        "colab": {
          "base_uri": "https://localhost:8080/"
        },
        "id": "3Gn_c2Rr_5ih",
        "outputId": "4a51f06e-1002-4030-d244-d72f0b8b4c4c"
      },
      "execution_count": 15,
      "outputs": [
        {
          "output_type": "stream",
          "name": "stdout",
          "text": [
            "Employees who have worked for 7 consecutive days:\n",
            "Empty DataFrame\n",
            "Columns: [Employee Name, Position ID]\n",
            "Index: []\n",
            "\n",
            "Employees who have less than 10 hours between shifts but greater than 1 hour:\n",
            "                 Employee Name Position ID\n",
            "1464  AGeX, WaMhaW REGerM PeWa   WFS000588\n",
            "1466  AGeX, WaMhaW REGerM PeWa   WFS000588\n",
            "1468  AGeX, WaMhaW REGerM PeWa   WFS000588\n",
            "1470  AGeX, WaMhaW REGerM PeWa   WFS000588\n",
            "1472  AGeX, WaMhaW REGerM PeWa   WFS000588\n",
            "...                        ...         ...\n",
            "717             ZaCEra, Edward   WFS000477\n",
            "720             ZaCEra, Edward   WFS000477\n",
            "722             ZaCEra, Edward   WFS000477\n",
            "724             ZaCEra, Edward   WFS000477\n",
            "726             ZaCEra, Edward   WFS000477\n",
            "\n",
            "[691 rows x 2 columns]\n",
            "\n",
            "Employees who have worked for more than 14 hours in a single shift:\n",
            "                 Employee Name Position ID\n",
            "1464  AGeX, WaMhaW REGerM PeWa   WFS000588\n",
            "1466  AGeX, WaMhaW REGerM PeWa   WFS000588\n",
            "1468  AGeX, WaMhaW REGerM PeWa   WFS000588\n",
            "1470  AGeX, WaMhaW REGerM PeWa   WFS000588\n",
            "1087       AXcEcer, ECar JesAs   WFS000541\n",
            "...                        ...         ...\n",
            "717             ZaCEra, Edward   WFS000477\n",
            "718             ZaCEra, Edward   WFS000477\n",
            "720             ZaCEra, Edward   WFS000477\n",
            "722             ZaCEra, Edward   WFS000477\n",
            "724             ZaCEra, Edward   WFS000477\n",
            "\n",
            "[681 rows x 2 columns]\n"
          ]
        }
      ]
    },
    {
      "cell_type": "code",
      "source": [
        "analyze_worksheet('Assignment_Timecard.xlsx')"
      ],
      "metadata": {
        "colab": {
          "base_uri": "https://localhost:8080/"
        },
        "id": "Wt9xcGqcBD1F",
        "outputId": "25b4edcf-80a4-4840-fd2f-a4fbbf5d0712"
      },
      "execution_count": 16,
      "outputs": [
        {
          "output_type": "stream",
          "name": "stdout",
          "text": [
            "Employees who have worked for 7 consecutive days:\n",
            "Empty DataFrame\n",
            "Columns: [Employee Name, Position ID]\n",
            "Index: []\n",
            "\n",
            "Employees who have less than 10 hours between shifts but greater than 1 hour:\n",
            "                 Employee Name Position ID\n",
            "1464  AGeX, WaMhaW REGerM PeWa   WFS000588\n",
            "1466  AGeX, WaMhaW REGerM PeWa   WFS000588\n",
            "1468  AGeX, WaMhaW REGerM PeWa   WFS000588\n",
            "1470  AGeX, WaMhaW REGerM PeWa   WFS000588\n",
            "1472  AGeX, WaMhaW REGerM PeWa   WFS000588\n",
            "...                        ...         ...\n",
            "717             ZaCEra, Edward   WFS000477\n",
            "720             ZaCEra, Edward   WFS000477\n",
            "722             ZaCEra, Edward   WFS000477\n",
            "724             ZaCEra, Edward   WFS000477\n",
            "726             ZaCEra, Edward   WFS000477\n",
            "\n",
            "[691 rows x 2 columns]\n",
            "\n",
            "Employees who have worked for more than 14 hours in a single shift:\n",
            "                 Employee Name Position ID\n",
            "1464  AGeX, WaMhaW REGerM PeWa   WFS000588\n",
            "1466  AGeX, WaMhaW REGerM PeWa   WFS000588\n",
            "1468  AGeX, WaMhaW REGerM PeWa   WFS000588\n",
            "1470  AGeX, WaMhaW REGerM PeWa   WFS000588\n",
            "1087       AXcEcer, ECar JesAs   WFS000541\n",
            "...                        ...         ...\n",
            "717             ZaCEra, Edward   WFS000477\n",
            "718             ZaCEra, Edward   WFS000477\n",
            "720             ZaCEra, Edward   WFS000477\n",
            "722             ZaCEra, Edward   WFS000477\n",
            "724             ZaCEra, Edward   WFS000477\n",
            "\n",
            "[681 rows x 2 columns]\n"
          ]
        }
      ]
    }
  ]
}